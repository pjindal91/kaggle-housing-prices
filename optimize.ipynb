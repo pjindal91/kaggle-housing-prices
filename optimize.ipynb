{
 "cells": [
  {
   "cell_type": "code",
   "execution_count": 1,
   "metadata": {},
   "outputs": [],
   "source": [
    "import pandas as pd\n",
    "from sklearn.model_selection import train_test_split\n",
    "\n",
    "# Read the data\n",
    "X_full = pd.read_csv('./Datasets/train.csv', index_col='Id')\n",
    "\n",
    "# Remove rows with missing target, separate target from predictors\n",
    "X_full.dropna(axis=0, subset=['SalePrice'], inplace=True)\n",
    "y = X_full.SalePrice\n",
    "X_full.drop(['SalePrice'], axis=1, inplace=True)\n",
    "\n",
    "# Break off validation set from training data\n",
    "X_train_full, X_valid_full, y_train, y_valid = train_test_split(X_full, y, \n",
    "                                                                train_size=0.8, test_size=0.2,\n",
    "                                                                random_state=0)\n",
    "\n",
    "# Select categorical columns with relatively low cardinality (convenient but arbitrary)\n",
    "categorical_cols = [cname for cname in X_train_full.columns if\n",
    "                    X_train_full[cname].nunique() < 10 and \n",
    "                    X_train_full[cname].dtype == \"object\"]\n",
    "\n",
    "# Select numerical columns\n",
    "numerical_cols = [cname for cname in X_train_full.columns if \n",
    "                X_train_full[cname].dtype in ['int64', 'float64']]\n",
    "\n",
    "# Keep selected columns only\n",
    "my_cols = categorical_cols + numerical_cols\n",
    "X_train = X_train_full[my_cols].copy()\n",
    "X_valid = X_valid_full[my_cols].copy()\n",
    "X_full = X_full[my_cols].copy()"
   ]
  },
  {
   "cell_type": "code",
   "execution_count": 8,
   "metadata": {},
   "outputs": [],
   "source": [
    "from sklearn.compose import ColumnTransformer\n",
    "from sklearn.pipeline import Pipeline\n",
    "from sklearn.impute import SimpleImputer\n",
    "from sklearn.preprocessing import OneHotEncoder\n",
    "from sklearn.metrics import mean_absolute_error\n",
    "from xgboost import XGBRegressor\n",
    "from sklearn.model_selection import cross_val_score\n",
    "from sklearn.preprocessing import StandardScaler\n",
    "\n",
    "# Preprocessing for numerical data\n",
    "numerical_transformer = Pipeline(steps=[\n",
    "    ('imputer', SimpleImputer(strategy='median')),\n",
    "    ('scalar', StandardScaler())\n",
    "])\n",
    "\n",
    "# Preprocessing for categorical data\n",
    "categorical_transformer = Pipeline(steps=[\n",
    "    ('imputer', SimpleImputer(strategy='most_frequent')),\n",
    "    ('onehot', OneHotEncoder(handle_unknown='ignore'))\n",
    "])\n",
    "\n",
    "# Bundle preprocessing for numerical and categorical data\n",
    "preprocessor = ColumnTransformer(\n",
    "    transformers=[\n",
    "        ('num', numerical_transformer, numerical_cols),\n",
    "        ('cat', categorical_transformer, categorical_cols),\n",
    "    ])\n",
    "\n",
    "pipeline = Pipeline(steps=[('preprocessor', preprocessor),\n",
    "                      ('model', XGBRegressor())\n",
    "                     ])"
   ]
  },
  {
   "cell_type": "code",
   "execution_count": 10,
   "metadata": {},
   "outputs": [
    {
     "name": "stdout",
     "output_type": "stream",
     "text": [
      "Fitting 7 folds for each of 39 candidates, totalling 273 fits\n"
     ]
    },
    {
     "name": "stderr",
     "output_type": "stream",
     "text": [
      "[Parallel(n_jobs=-1)]: Using backend LokyBackend with 3 concurrent workers.\n",
      "[Parallel(n_jobs=-1)]: Done  35 tasks      | elapsed:  1.8min\n",
      "[Parallel(n_jobs=-1)]: Done 156 tasks      | elapsed: 10.5min\n",
      "[Parallel(n_jobs=-1)]: Done 273 out of 273 | elapsed: 19.4min finished\n"
     ]
    },
    {
     "data": {
      "text/plain": [
       "GridSearchCV(cv=7, error_score=nan,\n",
       "             estimator=Pipeline(memory=None,\n",
       "                                steps=[('preprocessor',\n",
       "                                        ColumnTransformer(n_jobs=None,\n",
       "                                                          remainder='drop',\n",
       "                                                          sparse_threshold=0.3,\n",
       "                                                          transformer_weights=None,\n",
       "                                                          transformers=[('num',\n",
       "                                                                         Pipeline(memory=None,\n",
       "                                                                                  steps=[('imputer',\n",
       "                                                                                          SimpleImputer(add_indicator=False,\n",
       "                                                                                                        copy=True,\n",
       "                                                                                                        fill_value=None,\n",
       "                                                                                                        missing_values=nan,\n",
       "                                                                                                        strategy='median',\n",
       "                                                                                                        verbose=0)),...\n",
       "                                                     scale_pos_weight=None,\n",
       "                                                     subsample=None,\n",
       "                                                     tree_method=None,\n",
       "                                                     validate_parameters=False,\n",
       "                                                     verbosity=None))],\n",
       "                                verbose=False),\n",
       "             iid='deprecated', n_jobs=-1,\n",
       "             param_grid={'model__learning_rate': [0.02, 0.03, 0.04],\n",
       "                         'model__n_estimators': [400, 450, 500, 550, 600, 650,\n",
       "                                                 700, 750, 800, 850, 900, 950,\n",
       "                                                 1000]},\n",
       "             pre_dispatch='2*n_jobs', refit=True, return_train_score=False,\n",
       "             scoring=None, verbose=2)"
      ]
     },
     "execution_count": 10,
     "metadata": {},
     "output_type": "execute_result"
    }
   ],
   "source": [
    "from sklearn.model_selection import GridSearchCV\n",
    "\n",
    "param_grid = {\n",
    "    'model__n_estimators': [n for n in range(400, 1001, 50)],\n",
    "    'model__learning_rate': [n/100 for n in range(2, 5, 1)]\n",
    "}\n",
    "search = GridSearchCV(pipeline, param_grid, n_jobs=-1,cv=7, verbose=2)\n",
    "search.fit(X_full, y)"
   ]
  },
  {
   "cell_type": "code",
   "execution_count": 11,
   "metadata": {},
   "outputs": [
    {
     "data": {
      "text/plain": [
       "{'model__learning_rate': 0.04, 'model__n_estimators': 1000}"
      ]
     },
     "execution_count": 11,
     "metadata": {},
     "output_type": "execute_result"
    }
   ],
   "source": [
    "search.best_params_"
   ]
  },
  {
   "cell_type": "code",
   "execution_count": 12,
   "metadata": {},
   "outputs": [
    {
     "data": {
      "text/plain": [
       "{'mean_fit_time': array([ 7.32351024,  7.98801715,  8.94199572,  9.25290799, 10.25909485,\n",
       "        12.56644542, 14.58284811, 13.87732921, 14.61596789, 15.26475361,\n",
       "        16.75569585, 16.56307847, 18.16627506,  7.5458888 ,  8.13234261,\n",
       "         9.49530738,  9.52915444, 10.62510463, 11.13904684, 12.44796208,\n",
       "        13.1042944 , 14.4811151 , 14.56034279, 15.43417832, 16.28448994,\n",
       "        17.17246873,  6.8525548 ,  7.73424026,  8.59146738,  9.29314375,\n",
       "        10.53104098, 14.30283557, 13.56407155, 13.85707549, 15.52004892,\n",
       "        14.73702989, 16.22246987, 18.27219592, 17.27668609]),\n",
       " 'std_fit_time': array([0.45575393, 0.1381368 , 0.15232555, 0.16533083, 0.1700926 ,\n",
       "        0.57392758, 0.93938908, 0.92842439, 0.6791282 , 0.76141024,\n",
       "        0.83836023, 1.02483364, 0.4915489 , 0.37008767, 0.44181637,\n",
       "        0.88460791, 0.22183332, 0.36661388, 0.14010414, 0.36283167,\n",
       "        0.29593861, 0.42687367, 0.41286219, 0.47283973, 0.44370605,\n",
       "        0.27111554, 0.31258439, 0.29951511, 0.18217493, 0.19488742,\n",
       "        0.34897462, 2.42996697, 0.47639667, 0.62716813, 0.86612796,\n",
       "        0.60095515, 0.66302555, 0.54696327, 1.21177873]),\n",
       " 'mean_score_time': array([0.02283515, 0.02184575, 0.03130668, 0.03516739, 0.02400122,\n",
       "        0.02861108, 0.03689044, 0.03452396, 0.03529283, 0.03633404,\n",
       "        0.03349975, 0.03648397, 0.03037579, 0.03895463, 0.02178182,\n",
       "        0.02494178, 0.0292107 , 0.03085504, 0.02436614, 0.02708364,\n",
       "        0.02774756, 0.02735584, 0.02753448, 0.02930573, 0.03968447,\n",
       "        0.03095239, 0.02156121, 0.02098605, 0.02241165, 0.02542782,\n",
       "        0.02443702, 0.05447064, 0.02621865, 0.03096332, 0.0367134 ,\n",
       "        0.02851667, 0.03999356, 0.03394318, 0.03577753]),\n",
       " 'std_score_time': array([0.0034386 , 0.00166088, 0.01210834, 0.01809499, 0.00299131,\n",
       "        0.00654478, 0.02520767, 0.01304197, 0.00822656, 0.01824799,\n",
       "        0.00624428, 0.01458079, 0.00156059, 0.03099139, 0.00358903,\n",
       "        0.0046366 , 0.01641955, 0.01471525, 0.00149362, 0.00403087,\n",
       "        0.00753594, 0.00178923, 0.00143201, 0.00233428, 0.02050424,\n",
       "        0.00096584, 0.00516874, 0.00292518, 0.00162828, 0.00471188,\n",
       "        0.00075719, 0.04373899, 0.00230538, 0.00824238, 0.01471371,\n",
       "        0.00291624, 0.02093434, 0.00471263, 0.01423967]),\n",
       " 'param_model__learning_rate': masked_array(data=[0.02, 0.02, 0.02, 0.02, 0.02, 0.02, 0.02, 0.02, 0.02,\n",
       "                    0.02, 0.02, 0.02, 0.02, 0.03, 0.03, 0.03, 0.03, 0.03,\n",
       "                    0.03, 0.03, 0.03, 0.03, 0.03, 0.03, 0.03, 0.03, 0.04,\n",
       "                    0.04, 0.04, 0.04, 0.04, 0.04, 0.04, 0.04, 0.04, 0.04,\n",
       "                    0.04, 0.04, 0.04],\n",
       "              mask=[False, False, False, False, False, False, False, False,\n",
       "                    False, False, False, False, False, False, False, False,\n",
       "                    False, False, False, False, False, False, False, False,\n",
       "                    False, False, False, False, False, False, False, False,\n",
       "                    False, False, False, False, False, False, False],\n",
       "        fill_value='?',\n",
       "             dtype=object),\n",
       " 'param_model__n_estimators': masked_array(data=[400, 450, 500, 550, 600, 650, 700, 750, 800, 850, 900,\n",
       "                    950, 1000, 400, 450, 500, 550, 600, 650, 700, 750, 800,\n",
       "                    850, 900, 950, 1000, 400, 450, 500, 550, 600, 650, 700,\n",
       "                    750, 800, 850, 900, 950, 1000],\n",
       "              mask=[False, False, False, False, False, False, False, False,\n",
       "                    False, False, False, False, False, False, False, False,\n",
       "                    False, False, False, False, False, False, False, False,\n",
       "                    False, False, False, False, False, False, False, False,\n",
       "                    False, False, False, False, False, False, False],\n",
       "        fill_value='?',\n",
       "             dtype=object),\n",
       " 'params': [{'model__learning_rate': 0.02, 'model__n_estimators': 400},\n",
       "  {'model__learning_rate': 0.02, 'model__n_estimators': 450},\n",
       "  {'model__learning_rate': 0.02, 'model__n_estimators': 500},\n",
       "  {'model__learning_rate': 0.02, 'model__n_estimators': 550},\n",
       "  {'model__learning_rate': 0.02, 'model__n_estimators': 600},\n",
       "  {'model__learning_rate': 0.02, 'model__n_estimators': 650},\n",
       "  {'model__learning_rate': 0.02, 'model__n_estimators': 700},\n",
       "  {'model__learning_rate': 0.02, 'model__n_estimators': 750},\n",
       "  {'model__learning_rate': 0.02, 'model__n_estimators': 800},\n",
       "  {'model__learning_rate': 0.02, 'model__n_estimators': 850},\n",
       "  {'model__learning_rate': 0.02, 'model__n_estimators': 900},\n",
       "  {'model__learning_rate': 0.02, 'model__n_estimators': 950},\n",
       "  {'model__learning_rate': 0.02, 'model__n_estimators': 1000},\n",
       "  {'model__learning_rate': 0.03, 'model__n_estimators': 400},\n",
       "  {'model__learning_rate': 0.03, 'model__n_estimators': 450},\n",
       "  {'model__learning_rate': 0.03, 'model__n_estimators': 500},\n",
       "  {'model__learning_rate': 0.03, 'model__n_estimators': 550},\n",
       "  {'model__learning_rate': 0.03, 'model__n_estimators': 600},\n",
       "  {'model__learning_rate': 0.03, 'model__n_estimators': 650},\n",
       "  {'model__learning_rate': 0.03, 'model__n_estimators': 700},\n",
       "  {'model__learning_rate': 0.03, 'model__n_estimators': 750},\n",
       "  {'model__learning_rate': 0.03, 'model__n_estimators': 800},\n",
       "  {'model__learning_rate': 0.03, 'model__n_estimators': 850},\n",
       "  {'model__learning_rate': 0.03, 'model__n_estimators': 900},\n",
       "  {'model__learning_rate': 0.03, 'model__n_estimators': 950},\n",
       "  {'model__learning_rate': 0.03, 'model__n_estimators': 1000},\n",
       "  {'model__learning_rate': 0.04, 'model__n_estimators': 400},\n",
       "  {'model__learning_rate': 0.04, 'model__n_estimators': 450},\n",
       "  {'model__learning_rate': 0.04, 'model__n_estimators': 500},\n",
       "  {'model__learning_rate': 0.04, 'model__n_estimators': 550},\n",
       "  {'model__learning_rate': 0.04, 'model__n_estimators': 600},\n",
       "  {'model__learning_rate': 0.04, 'model__n_estimators': 650},\n",
       "  {'model__learning_rate': 0.04, 'model__n_estimators': 700},\n",
       "  {'model__learning_rate': 0.04, 'model__n_estimators': 750},\n",
       "  {'model__learning_rate': 0.04, 'model__n_estimators': 800},\n",
       "  {'model__learning_rate': 0.04, 'model__n_estimators': 850},\n",
       "  {'model__learning_rate': 0.04, 'model__n_estimators': 900},\n",
       "  {'model__learning_rate': 0.04, 'model__n_estimators': 950},\n",
       "  {'model__learning_rate': 0.04, 'model__n_estimators': 1000}],\n",
       " 'split0_test_score': array([0.90308724, 0.90332348, 0.90335941, 0.90350837, 0.90364734,\n",
       "        0.9040278 , 0.90394281, 0.90404062, 0.90426208, 0.9042927 ,\n",
       "        0.90424042, 0.90411935, 0.90404528, 0.90448815, 0.90458241,\n",
       "        0.90450301, 0.9043205 , 0.90431488, 0.90431392, 0.90446272,\n",
       "        0.90447514, 0.90454122, 0.90457597, 0.90457877, 0.90456438,\n",
       "        0.90447105, 0.90629639, 0.90648107, 0.90660391, 0.90665092,\n",
       "        0.90676424, 0.90669976, 0.90665983, 0.90665209, 0.90662693,\n",
       "        0.90663157, 0.90674921, 0.90678943, 0.90675354]),\n",
       " 'split1_test_score': array([0.91990793, 0.92010953, 0.91978847, 0.91926156, 0.91893398,\n",
       "        0.91864236, 0.9186227 , 0.91841065, 0.91827467, 0.91818318,\n",
       "        0.91817266, 0.91802035, 0.91788008, 0.9189715 , 0.9187462 ,\n",
       "        0.91835414, 0.91829762, 0.91831967, 0.91821255, 0.91800822,\n",
       "        0.91792129, 0.91798609, 0.91794239, 0.91789798, 0.91792698,\n",
       "        0.91788109, 0.91898647, 0.91889816, 0.91874665, 0.91859197,\n",
       "        0.91877119, 0.91899477, 0.91912026, 0.91909653, 0.91912607,\n",
       "        0.91916678, 0.91918194, 0.91917017, 0.91924434]),\n",
       " 'split2_test_score': array([0.80489221, 0.80493396, 0.80467523, 0.80456269, 0.80448471,\n",
       "        0.8044343 , 0.80428587, 0.80426341, 0.80424432, 0.80432875,\n",
       "        0.80426803, 0.8040938 , 0.80391206, 0.81174156, 0.81183055,\n",
       "        0.81198255, 0.81210743, 0.81195205, 0.81206807, 0.81216229,\n",
       "        0.81217206, 0.81218157, 0.81208427, 0.81201334, 0.81211423,\n",
       "        0.81216722, 0.78987546, 0.79025603, 0.7904085 , 0.79070022,\n",
       "        0.79079641, 0.79087082, 0.79102496, 0.79106373, 0.79111073,\n",
       "        0.79112832, 0.79120333, 0.79127878, 0.79128696]),\n",
       " 'split3_test_score': array([0.86054904, 0.86105438, 0.86123557, 0.8616346 , 0.86182964,\n",
       "        0.86195022, 0.86211592, 0.86208354, 0.86219634, 0.86238281,\n",
       "        0.86257603, 0.86277985, 0.86272581, 0.87323984, 0.87354174,\n",
       "        0.87362103, 0.87359425, 0.87371911, 0.87382313, 0.87394977,\n",
       "        0.8741632 , 0.87414717, 0.87410935, 0.87406887, 0.87408098,\n",
       "        0.8740235 , 0.87275316, 0.87271391, 0.87263093, 0.87281236,\n",
       "        0.87289546, 0.87279035, 0.87281788, 0.87282738, 0.87284499,\n",
       "        0.87290241, 0.87289692, 0.87292725, 0.87293928]),\n",
       " 'split4_test_score': array([0.86445092, 0.86467702, 0.86464603, 0.86481776, 0.86471825,\n",
       "        0.86462936, 0.86460283, 0.86448224, 0.86445994, 0.86451893,\n",
       "        0.86458685, 0.86457504, 0.8645358 , 0.86685891, 0.86702539,\n",
       "        0.86711992, 0.86739195, 0.8675903 , 0.86775704, 0.86789044,\n",
       "        0.86784526, 0.86787529, 0.86768881, 0.86752472, 0.86737815,\n",
       "        0.86711009, 0.86738452, 0.86718959, 0.86723126, 0.86713147,\n",
       "        0.86700852, 0.86691923, 0.86690783, 0.86712703, 0.867149  ,\n",
       "        0.86705571, 0.8670016 , 0.86703201, 0.86701222]),\n",
       " 'split5_test_score': array([0.83437961, 0.83546993, 0.8364473 , 0.83667595, 0.83721601,\n",
       "        0.83744614, 0.83752718, 0.83747762, 0.83783199, 0.8377954 ,\n",
       "        0.83803893, 0.83802273, 0.83801695, 0.82748873, 0.82778782,\n",
       "        0.82819824, 0.82802537, 0.82786127, 0.82787069, 0.82798527,\n",
       "        0.8282276 , 0.82845413, 0.82857053, 0.82847411, 0.82853542,\n",
       "        0.82862087, 0.84749902, 0.84746947, 0.84742465, 0.8477893 ,\n",
       "        0.84809556, 0.84826354, 0.84830615, 0.84834163, 0.84839124,\n",
       "        0.84847222, 0.84847875, 0.84850031, 0.84853508]),\n",
       " 'split6_test_score': array([0.88130133, 0.88174577, 0.88218372, 0.88257775, 0.88283468,\n",
       "        0.88305635, 0.88331808, 0.88335729, 0.88334627, 0.88333625,\n",
       "        0.88329726, 0.88339481, 0.88330334, 0.88453218, 0.8847133 ,\n",
       "        0.88480907, 0.88507951, 0.88507463, 0.8852949 , 0.88511933,\n",
       "        0.8848781 , 0.88468123, 0.88454331, 0.88444635, 0.88448024,\n",
       "        0.88448846, 0.88917121, 0.88959044, 0.88978109, 0.89008903,\n",
       "        0.89005199, 0.89007138, 0.89004629, 0.89015241, 0.89018042,\n",
       "        0.8901732 , 0.89015068, 0.89013954, 0.89015792]),\n",
       " 'mean_test_score': array([0.86693832, 0.86733058, 0.86747653, 0.86757695, 0.86766637,\n",
       "        0.86774093, 0.86777363, 0.86773077, 0.86780223, 0.867834  ,\n",
       "        0.86788288, 0.86785799, 0.86777419, 0.86961727, 0.86974677,\n",
       "        0.86979828, 0.86983095, 0.86983313, 0.86990576, 0.86993972,\n",
       "        0.86995466, 0.86998096, 0.86993066, 0.86985773, 0.86986863,\n",
       "        0.86982318, 0.87028089, 0.87037124, 0.87040386, 0.8705379 ,\n",
       "        0.8706262 , 0.87065855, 0.8706976 , 0.87075154, 0.87077562,\n",
       "        0.87079003, 0.87080892, 0.87083393, 0.87084705]),\n",
       " 'std_test_score': array([0.03640177, 0.03633923, 0.03624165, 0.03616625, 0.03608518,\n",
       "        0.03607724, 0.0361012 , 0.03608887, 0.03605319, 0.03601693,\n",
       "        0.03598625, 0.03598635, 0.03599045, 0.03589552, 0.03580725,\n",
       "        0.03562187, 0.03559873, 0.03566556, 0.03562985, 0.03555986,\n",
       "        0.03549106, 0.03546032, 0.0354528 , 0.03547232, 0.03544584,\n",
       "        0.03539966, 0.0396858 , 0.03961729, 0.03957862, 0.03946775,\n",
       "        0.03946051, 0.03945769, 0.03942511, 0.03941044, 0.03939655,\n",
       "        0.03939382, 0.03938872, 0.0393674 , 0.03937221]),\n",
       " 'rank_test_score': array([39, 38, 37, 36, 35, 33, 32, 34, 30, 29, 27, 28, 31, 26, 25, 24, 22,\n",
       "        21, 18, 16, 15, 14, 17, 20, 19, 23, 13, 12, 11, 10,  9,  8,  7,  6,\n",
       "         5,  4,  3,  2,  1], dtype=int32)}"
      ]
     },
     "execution_count": 12,
     "metadata": {},
     "output_type": "execute_result"
    }
   ],
   "source": [
    "search.cv_results_"
   ]
  },
  {
   "cell_type": "code",
   "execution_count": 13,
   "metadata": {},
   "outputs": [
    {
     "data": {
      "text/plain": [
       "Pipeline(memory=None,\n",
       "         steps=[('preprocessor',\n",
       "                 ColumnTransformer(n_jobs=None, remainder='drop',\n",
       "                                   sparse_threshold=0.3,\n",
       "                                   transformer_weights=None,\n",
       "                                   transformers=[('num',\n",
       "                                                  Pipeline(memory=None,\n",
       "                                                           steps=[('imputer',\n",
       "                                                                   SimpleImputer(add_indicator=False,\n",
       "                                                                                 copy=True,\n",
       "                                                                                 fill_value=None,\n",
       "                                                                                 missing_values=nan,\n",
       "                                                                                 strategy='median',\n",
       "                                                                                 verbose=0)),\n",
       "                                                                  ('scalar',\n",
       "                                                                   StandardScaler(copy=True,\n",
       "                                                                                  with_mean...\n",
       "                              interaction_constraints=None, learning_rate=0.04,\n",
       "                              max_delta_step=0, max_depth=6, min_child_weight=1,\n",
       "                              missing=nan, monotone_constraints=None,\n",
       "                              n_estimators=1000, n_jobs=0, num_parallel_tree=1,\n",
       "                              objective='reg:squarederror', random_state=0,\n",
       "                              reg_alpha=0, reg_lambda=1, scale_pos_weight=1,\n",
       "                              subsample=1, tree_method=None,\n",
       "                              validate_parameters=False, verbosity=None))],\n",
       "         verbose=False)"
      ]
     },
     "execution_count": 13,
     "metadata": {},
     "output_type": "execute_result"
    }
   ],
   "source": [
    "search.best_estimator_"
   ]
  },
  {
   "cell_type": "code",
   "execution_count": 14,
   "metadata": {},
   "outputs": [
    {
     "data": {
      "text/plain": [
       "0.8708470485634422"
      ]
     },
     "execution_count": 14,
     "metadata": {},
     "output_type": "execute_result"
    }
   ],
   "source": [
    "search.best_score_"
   ]
  },
  {
   "cell_type": "code",
   "execution_count": null,
   "metadata": {},
   "outputs": [],
   "source": []
  }
 ],
 "metadata": {
  "kernelspec": {
   "display_name": "Python 3",
   "language": "python",
   "name": "python3"
  },
  "language_info": {
   "codemirror_mode": {
    "name": "ipython",
    "version": 3
   },
   "file_extension": ".py",
   "mimetype": "text/x-python",
   "name": "python",
   "nbconvert_exporter": "python",
   "pygments_lexer": "ipython3",
   "version": "3.7.6"
  }
 },
 "nbformat": 4,
 "nbformat_minor": 4
}
