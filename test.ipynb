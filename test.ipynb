{
 "cells": [
  {
   "cell_type": "markdown",
   "metadata": {},
   "source": [
    "## Data Loading"
   ]
  },
  {
   "cell_type": "code",
   "execution_count": 1,
   "metadata": {},
   "outputs": [],
   "source": [
    "import pandas as pd\n",
    "from sklearn.model_selection import train_test_split\n",
    "\n",
    "# Read the data\n",
    "X_full = pd.read_csv('./Datasets/train.csv', index_col='Id')\n",
    "\n",
    "# Remove rows with missing target, separate target from predictors\n",
    "X_full.dropna(axis=0, subset=['SalePrice'], inplace=True)\n",
    "y = X_full.SalePrice\n",
    "X_full.drop(['SalePrice'], axis=1, inplace=True)\n",
    "\n",
    "# Categorical columns\n",
    "categorical_cols = [cname for cname in X_full.columns if\n",
    "                    X_full[cname].dtype == \"object\"]\n",
    "\n",
    "# Select numerical columns\n",
    "numerical_cols = [cname for cname in X_full.columns if \n",
    "                X_full[cname].dtype in ['int64', 'float64']]"
   ]
  },
  {
   "cell_type": "markdown",
   "metadata": {},
   "source": [
    "# Feature Selection and Cleaning"
   ]
  },
  {
   "cell_type": "markdown",
   "metadata": {},
   "source": [
    "### Numerical Columns"
   ]
  },
  {
   "cell_type": "markdown",
   "metadata": {},
   "source": [
    "**Imputation**"
   ]
  },
  {
   "cell_type": "code",
   "execution_count": 2,
   "metadata": {},
   "outputs": [],
   "source": [
    "from sklearn.impute import SimpleImputer\n",
    "\n",
    "imputer = SimpleImputer(strategy=\"median\")\n",
    "X_num_imputed  = pd.DataFrame(imputer.fit_transform(X_full[numerical_cols]))\n",
    "X_num_imputed.columns = X_full[numerical_cols].columns"
   ]
  },
  {
   "cell_type": "markdown",
   "metadata": {},
   "source": [
    "**Normalization**"
   ]
  },
  {
   "cell_type": "code",
   "execution_count": 3,
   "metadata": {},
   "outputs": [],
   "source": [
    "# from sklearn.preprocessing import normalize \n",
    "\n",
    "# X_num_norm = pd.DataFrame(normalize(X_num_imputed))\n",
    "# X_num_norm.columns = X_num_imputed.columns"
   ]
  },
  {
   "cell_type": "code",
   "execution_count": 4,
   "metadata": {},
   "outputs": [],
   "source": [
    "from sklearn.preprocessing import StandardScaler \n",
    "\n",
    "scal = StandardScaler()\n",
    "\n",
    "X_num_norm = pd.DataFrame(scal.fit_transform(X_num_imputed))\n",
    "X_num_norm.columns = X_num_imputed.columns\n"
   ]
  },
  {
   "cell_type": "code",
   "execution_count": 5,
   "metadata": {},
   "outputs": [],
   "source": [
    "X_num_final = X_num_norm.copy()"
   ]
  },
  {
   "cell_type": "markdown",
   "metadata": {},
   "source": [
    "### Categorical Columns"
   ]
  },
  {
   "cell_type": "markdown",
   "metadata": {},
   "source": [
    "**Imputation**"
   ]
  },
  {
   "cell_type": "code",
   "execution_count": 6,
   "metadata": {},
   "outputs": [],
   "source": [
    "from sklearn.impute import SimpleImputer\n",
    "\n",
    "imputer = SimpleImputer(strategy=\"most_frequent\")\n",
    "X_cat_imputed  = pd.DataFrame(imputer.fit_transform(X_full[categorical_cols]))\n",
    "X_cat_imputed.columns = X_full[categorical_cols].columns"
   ]
  },
  {
   "cell_type": "markdown",
   "metadata": {},
   "source": [
    "**Encoding**"
   ]
  },
  {
   "cell_type": "code",
   "execution_count": null,
   "metadata": {},
   "outputs": [
    {
     "name": "stdout",
     "output_type": "stream",
     "text": [
      "monsters done\n"
     ]
    },
    {
     "name": "stderr",
     "output_type": "stream",
     "text": [
      "/usr/local/lib/python3.7/site-packages/pandas/core/algorithms.py:723: SparseEfficiencyWarning: Comparing sparse matrices using == is inefficient, try using != instead.\n",
      "  keys, counts = _value_counts_arraylike(values, dropna)\n"
     ]
    }
   ],
   "source": [
    "from sklearn.preprocessing import OneHotEncoder\n",
    "import category_encoders as ce\n",
    "\n",
    "# #Low Cardinality Encoding\n",
    "enc = OneHotEncoder(handle_unknown='ignore')\n",
    "low_card_cols = [cname for cname in X_cat_imputed.columns if\n",
    "                    X_cat_imputed[cname].nunique() < 10]\n",
    "X_cat_enc = pd.DataFrame(enc.fit_transform(X_cat_imputed[low_card_cols]))\n",
    "print(\"monsters done\")\n",
    "X_cat_enc.index = X_cat_imputed.index\n",
    "X_cat_imputed.drop(low_card_cols, axis=1, inplace=True)\n",
    "X_cat_imputed = X_cat_imputed.join(X_cat_enc)\n",
    "\n",
    "#High Cardinality Encoding\n",
    "enc = ce.CountEncoder()\n",
    "high_card_cols = list(set(X_cat_imputed) - set(low_card_cols))\n",
    "high_card_enc = pd.DataFrame(enc.fit_transform(X_cat_imputed[high_card_cols]))\n",
    "high_card_enc.columns = X_cat_imputed[high_card_cols].columns\n",
    "X_cat_imputed.update(high_card_enc)\n",
    "\n",
    "# enc = ce.CountEncoder()\n",
    "# high_card_enc = pd.DataFrame(enc.fit_transform(X_cat_imputed[categorical_cols]))\n",
    "# high_card_enc.columns = X_cat_imputed[categorical_cols].columns\n",
    "# X_cat_imputed.update(high_card_enc)"
   ]
  },
  {
   "cell_type": "markdown",
   "metadata": {},
   "source": [
    "**Normalization**"
   ]
  },
  {
   "cell_type": "code",
   "execution_count": null,
   "metadata": {},
   "outputs": [],
   "source": [
    "# X_cat_norm = pd.DataFrame(normalize(X_cat_imputed))\n",
    "# X_cat_norm.columns = X_cat_imputed.columns"
   ]
  },
  {
   "cell_type": "code",
   "execution_count": null,
   "metadata": {},
   "outputs": [],
   "source": [
    "from sklearn.preprocessing import StandardScaler \n",
    "\n",
    "scal = StandardScaler()\n",
    "\n",
    "X_cat_norm = pd.DataFrame(scal.fit_transform(X_cat_imputed))\n",
    "X_cat_norm.columns = X_cat_norm.columns"
   ]
  },
  {
   "cell_type": "code",
   "execution_count": null,
   "metadata": {},
   "outputs": [],
   "source": [
    "X_cat_final = X_cat_norm.copy() "
   ]
  },
  {
   "cell_type": "markdown",
   "metadata": {},
   "source": [
    "**Final Data**"
   ]
  },
  {
   "cell_type": "code",
   "execution_count": null,
   "metadata": {},
   "outputs": [],
   "source": [
    "X_final = X_num_final.join(X_cat_final)\n",
    "final_cols = X_final.columns"
   ]
  },
  {
   "cell_type": "markdown",
   "metadata": {},
   "source": [
    "### Drop columns have very little correlation with the output"
   ]
  },
  {
   "cell_type": "code",
   "execution_count": null,
   "metadata": {},
   "outputs": [],
   "source": [
    "# to_del = []\n",
    "# corr = X_final.corrwith(y).abs()\n",
    "# for col_name, c in corr.iteritems():\n",
    "#     if c < 0.03:\n",
    "#         to_del.append(col_name)\n",
    "# X_final.drop(to_del, axis=1, inplace=True)\n",
    "# final_cols = [col for col in final_cols if col not in to_del]"
   ]
  },
  {
   "cell_type": "markdown",
   "metadata": {},
   "source": [
    "### Drop columns have very high correlation"
   ]
  },
  {
   "cell_type": "code",
   "execution_count": null,
   "metadata": {},
   "outputs": [],
   "source": [
    "# all_corr = X_final.corr()\n",
    "# to_del = []\n",
    "# for col in all_corr:\n",
    "#     if col not in to_del:\n",
    "#         for col_name, c in all_corr[col].iteritems():\n",
    "#             if col_name != col and (c > 0.96 or c < -0.96):\n",
    "#                 to_del.append(col_name)\n",
    "# X_final.drop(to_del, axis=1, inplace=True)\n",
    "# final_cols = [col for col in final_cols if col not in to_del]"
   ]
  },
  {
   "cell_type": "markdown",
   "metadata": {},
   "source": [
    "### Train XGB"
   ]
  },
  {
   "cell_type": "code",
   "execution_count": null,
   "metadata": {},
   "outputs": [],
   "source": [
    "from sklearn.model_selection import GridSearchCV\n",
    "from xgboost import XGBRegressor\n",
    "\n",
    "param_grid = {\n",
    "    'model__n_estimators': [n for n in range(1000, 1201, 50)],\n",
    "    'model__learning_rate': [n/1000 for n in range(5, 10, 1)]\n",
    "}\n",
    "search = GridSearchCV(XGBRegressor(), param_grid, n_jobs=-1,cv=5, verbose=5, scoring='neg_mean_absolute_error')\n",
    "search.fit(X_final, y)"
   ]
  },
  {
   "cell_type": "code",
   "execution_count": null,
   "metadata": {},
   "outputs": [],
   "source": [
    "search.best_params_"
   ]
  },
  {
   "cell_type": "code",
   "execution_count": null,
   "metadata": {},
   "outputs": [],
   "source": [
    "search.cv_results_"
   ]
  },
  {
   "cell_type": "code",
   "execution_count": null,
   "metadata": {},
   "outputs": [],
   "source": [
    "search.best_estimator_"
   ]
  },
  {
   "cell_type": "code",
   "execution_count": null,
   "metadata": {},
   "outputs": [],
   "source": [
    "search.best_score_"
   ]
  }
 ],
 "metadata": {
  "kernelspec": {
   "display_name": "Python 3",
   "language": "python",
   "name": "python3"
  },
  "language_info": {
   "codemirror_mode": {
    "name": "ipython",
    "version": 3
   },
   "file_extension": ".py",
   "mimetype": "text/x-python",
   "name": "python",
   "nbconvert_exporter": "python",
   "pygments_lexer": "ipython3",
   "version": "3.7.6"
  }
 },
 "nbformat": 4,
 "nbformat_minor": 4
}
